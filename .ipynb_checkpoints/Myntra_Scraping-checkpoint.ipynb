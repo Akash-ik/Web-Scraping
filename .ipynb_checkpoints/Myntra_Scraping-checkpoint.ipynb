{
 "cells": [
  {
   "cell_type": "code",
   "execution_count": 1,
   "metadata": {},
   "outputs": [],
   "source": [
    "import selenium\n",
    "from selenium import webdriver as wb\n",
    "webD=wb.Chrome('chromedriver.exe')\n",
    "webD.get('https://www.myntra.com/womens-western-wear')"
   ]
  },
  {
   "cell_type": "code",
   "execution_count": 2,
   "metadata": {},
   "outputs": [],
   "source": [
    "x=0\n",
    "listoflinks =[]\n",
    "condition = True\n",
    "while (x<100):   \n",
    "    try:\n",
    "        x+=1\n",
    "        productInfoList=webD.find_elements_by_class_name('product-base')\n",
    "        for el in productInfoList:\n",
    "            p2 = el.find_element_by_tag_name('a')\n",
    "            listoflinks.append(p2.get_property('href'))\n",
    "        webD.find_element_by_class_name('pagination-next').click()\n",
    "    except:\n",
    "        continue"
   ]
  },
  {
   "cell_type": "code",
   "execution_count": 3,
   "metadata": {},
   "outputs": [
    {
     "data": {
      "text/plain": [
       "4941"
      ]
     },
     "execution_count": 3,
     "metadata": {},
     "output_type": "execute_result"
    }
   ],
   "source": [
    "len(listoflinks)"
   ]
  },
  {
   "cell_type": "code",
   "execution_count": 4,
   "metadata": {
    "scrolled": true
   },
   "outputs": [
    {
     "name": "stderr",
     "output_type": "stream",
     "text": [
      "100%|██████████████████████████████████████████████████████████████████████████████| 4941/4941 [46:36<00:00,  1.77it/s]\n"
     ]
    }
   ],
   "source": [
    "from tqdm import tqdm\n",
    "alldetails=[]\n",
    "for i in tqdm(listoflinks):\n",
    "    try:\n",
    "        webD.get(i)\n",
    "        webD.find_element_by_class_name('index-showMoreText').click()\n",
    "        look = webD.find_element_by_xpath('//*[@id=\"mountRoot\"]/div/div/div/main/div[2]/div[2]/div[7]/div/div[4]/div[2]/div[2]/p')\n",
    "        looktxt = look.text\n",
    "        webD.find_element_by_class_name('image-grid-image').click()\n",
    "        im=webD.find_element_by_class_name('desktop-image-zoom-primary-image')\n",
    "        imsrc = im.get_attribute('src')\n",
    "        title = webD.find_element_by_xpath('//*[@id=\"mountRoot\"]/div/div/div/main/div[2]/div[2]/div[1]/h1[1]').text\n",
    "        name = webD.find_element_by_xpath('//*[@id=\"mountRoot\"]/div/div/div/main/div[2]/div[2]/div[1]/h1[2]').text\n",
    "        temp = {'title':title,'name':name,'image':imsrc,'look':looktxt}\n",
    "        alldetails.append(temp)\n",
    "    except:\n",
    "        continue"
   ]
  },
  {
   "cell_type": "code",
   "execution_count": 9,
   "metadata": {},
   "outputs": [],
   "source": [
    "import pandas as pd"
   ]
  },
  {
   "cell_type": "code",
   "execution_count": 10,
   "metadata": {},
   "outputs": [],
   "source": [
    "df = pd.DataFrame(alldetails)"
   ]
  },
  {
   "cell_type": "code",
   "execution_count": 11,
   "metadata": {},
   "outputs": [
    {
     "data": {
      "text/html": [
       "<div>\n",
       "<style scoped>\n",
       "    .dataframe tbody tr th:only-of-type {\n",
       "        vertical-align: middle;\n",
       "    }\n",
       "\n",
       "    .dataframe tbody tr th {\n",
       "        vertical-align: top;\n",
       "    }\n",
       "\n",
       "    .dataframe thead th {\n",
       "        text-align: right;\n",
       "    }\n",
       "</style>\n",
       "<table border=\"1\" class=\"dataframe\">\n",
       "  <thead>\n",
       "    <tr style=\"text-align: right;\">\n",
       "      <th></th>\n",
       "      <th>title</th>\n",
       "      <th>name</th>\n",
       "      <th>image</th>\n",
       "      <th>look</th>\n",
       "    </tr>\n",
       "  </thead>\n",
       "  <tbody>\n",
       "    <tr>\n",
       "      <th>0</th>\n",
       "      <td>Roadster</td>\n",
       "      <td>Women Black Solid Hooded Sweatshirt</td>\n",
       "      <td>https://assets.myntassets.com/h_1440,q_90,w_10...</td>\n",
       "      <td>Effortless style comes easy in this in-season ...</td>\n",
       "    </tr>\n",
       "    <tr>\n",
       "      <th>1</th>\n",
       "      <td>Roadster Fast and Furious</td>\n",
       "      <td>Women Blue Solid Denim Jacket</td>\n",
       "      <td>https://assets.myntassets.com/h_1440,q_90,w_10...</td>\n",
       "      <td>This top-of-the-line blue jacket from Roadster...</td>\n",
       "    </tr>\n",
       "    <tr>\n",
       "      <th>2</th>\n",
       "      <td>SASSAFRAS</td>\n",
       "      <td>Women Blue Solid Denim Jacket</td>\n",
       "      <td>https://assets.myntassets.com/h_1440,q_90,w_10...</td>\n",
       "      <td>Layer on a chic navy blue jacket from SASSAFRA...</td>\n",
       "    </tr>\n",
       "    <tr>\n",
       "      <th>3</th>\n",
       "      <td>Tokyo Talkies</td>\n",
       "      <td>Women Green Printed Sweatshirt</td>\n",
       "      <td>https://assets.myntassets.com/h_1440,q_90,w_10...</td>\n",
       "      <td>Stay warm and in style with this top-notch swe...</td>\n",
       "    </tr>\n",
       "    <tr>\n",
       "      <th>4</th>\n",
       "      <td>Campus Sutra</td>\n",
       "      <td>Women Grey Solid Jacket</td>\n",
       "      <td>https://assets.myntassets.com/h_1440,q_90,w_10...</td>\n",
       "      <td>Layer on a chic grey jacket from Campus Sutra....</td>\n",
       "    </tr>\n",
       "  </tbody>\n",
       "</table>\n",
       "</div>"
      ],
      "text/plain": [
       "                       title                                 name  \\\n",
       "0                   Roadster  Women Black Solid Hooded Sweatshirt   \n",
       "1  Roadster Fast and Furious        Women Blue Solid Denim Jacket   \n",
       "2                  SASSAFRAS        Women Blue Solid Denim Jacket   \n",
       "3              Tokyo Talkies       Women Green Printed Sweatshirt   \n",
       "4               Campus Sutra              Women Grey Solid Jacket   \n",
       "\n",
       "                                               image  \\\n",
       "0  https://assets.myntassets.com/h_1440,q_90,w_10...   \n",
       "1  https://assets.myntassets.com/h_1440,q_90,w_10...   \n",
       "2  https://assets.myntassets.com/h_1440,q_90,w_10...   \n",
       "3  https://assets.myntassets.com/h_1440,q_90,w_10...   \n",
       "4  https://assets.myntassets.com/h_1440,q_90,w_10...   \n",
       "\n",
       "                                                look  \n",
       "0  Effortless style comes easy in this in-season ...  \n",
       "1  This top-of-the-line blue jacket from Roadster...  \n",
       "2  Layer on a chic navy blue jacket from SASSAFRA...  \n",
       "3  Stay warm and in style with this top-notch swe...  \n",
       "4  Layer on a chic grey jacket from Campus Sutra....  "
      ]
     },
     "execution_count": 11,
     "metadata": {},
     "output_type": "execute_result"
    }
   ],
   "source": [
    "df.head()"
   ]
  },
  {
   "cell_type": "code",
   "execution_count": 12,
   "metadata": {},
   "outputs": [],
   "source": [
    "df.to_csv('myntra_data_100pages.csv')"
   ]
  }
 ],
 "metadata": {
  "kernelspec": {
   "display_name": "gpu_kernel",
   "language": "python",
   "name": "gpu_kernel"
  },
  "language_info": {
   "codemirror_mode": {
    "name": "ipython",
    "version": 3
   },
   "file_extension": ".py",
   "mimetype": "text/x-python",
   "name": "python",
   "nbconvert_exporter": "python",
   "pygments_lexer": "ipython3",
   "version": "3.7.7"
  }
 },
 "nbformat": 4,
 "nbformat_minor": 4
}
